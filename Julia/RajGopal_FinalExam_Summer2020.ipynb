{
 "cells": [
  {
   "cell_type": "markdown",
   "metadata": {},
   "source": [
    "# Final Exam"
   ]
  },
  {
   "cell_type": "markdown",
   "metadata": {},
   "source": [
    "## Question 1 \n",
    "Define a function `insert_block` to insert a block of values in a matrix,\n",
    "\n",
    "```julia\n",
    "A = fill(0, 9, 9)\n",
    "insert_block(A, 3, 5, 2)\n",
    "```\n",
    "\n",
    "so that the above code would yield:\n",
    "\n",
    "`9×9 Array{Int64,2}:\n",
    " 0  0  0  0  0  0  0  0  0\n",
    " 0  0  0  0  0  0  0  0  0\n",
    " 0  0  0  0  2  2  2  0  0\n",
    " 0  0  0  0  2  2  2  0  0\n",
    " 0  0  0  0  2  2  2  0  0\n",
    " 0  0  0  0  0  0  0  0  0\n",
    " 0  0  0  0  0  0  0  0  0\n",
    " 0  0  0  0  0  0  0  0  0\n",
    " 0  0  0  0  0  0  0  0  0`"
   ]
  },
  {
   "cell_type": "code",
   "execution_count": 1,
   "metadata": {},
   "outputs": [
    {
     "data": {
      "text/plain": [
       "9×9 Array{Int64,2}:\n",
       " 0  0  0  0  0  0  0  0  0\n",
       " 0  0  0  0  0  0  0  0  0\n",
       " 0  0  0  0  2  2  2  0  0\n",
       " 0  0  0  0  2  2  2  0  0\n",
       " 0  0  0  0  2  2  2  0  0\n",
       " 0  0  0  0  0  0  0  0  0\n",
       " 0  0  0  0  0  0  0  0  0\n",
       " 0  0  0  0  0  0  0  0  0\n",
       " 0  0  0  0  0  0  0  0  0"
      ]
     },
     "execution_count": 1,
     "metadata": {},
     "output_type": "execute_result"
    }
   ],
   "source": [
    "function insert_block(A,row,col,n)\n",
    "    if (row+col) > size(A,1)+1 || (2*row)-1 > size(A,1)\n",
    "        print(\"Dimensions don't agree, A is a $(size(A,1))x$(size(A,2)) matrix.\\nTrying to insert $(row)x$(row) matrix from column 5\")\n",
    "        return\n",
    "    end\n",
    "    \n",
    "    b = fill(n,row,row)\n",
    "    A[row:(2*row)-1,col:col+row-1] = b\n",
    "    return A\n",
    "    \n",
    "end\n",
    "\n",
    "A = fill(0,9,9)\n",
    "insert_block(A,3,5,2)"
   ]
  },
  {
   "cell_type": "markdown",
   "metadata": {},
   "source": [
    "## Question 2\n",
    "\n",
    "### Create a Caesar ciphers\n",
    "\n",
    "A caesar cipher is an encryption scheme that shifts all letters in the alphabet by some specified offset to other letters in the alphabet.\n",
    "\n",
    "For example, a shift of 1 would turn the letter \"A\" into the letter \"B\" and the letter \"M\" to the letter \"N\".\n",
    "\n",
    "### Goal\n",
    "\n",
    "We want to add a method to the `+` operator such that we can add together a string and an integer shift to encrypt a message. For example,\n",
    "\n",
    "```julia\n",
    "4 + \"hello\" == \"lipps\"\n",
    "```\n",
    "\n",
    "### Test it out\n",
    "\n",
    "Once you think you have it working, try to decrypt the following string by adding a shift of -7.\n",
    "```julia\n",
    "\"Kv'uv{'tlkksl'pu'{ol'hmmhpyz'vm'kyhnvuz'mvy'\\u80v|'hyl'jy|ujo\\u80'huk'{hz{l'nvvk'~p{o'rl{jo|w5\"\n",
    "```"
   ]
  },
  {
   "cell_type": "markdown",
   "metadata": {},
   "source": [
    "## Below is the step by step guide to solve the Caesar ciphers problem\n",
    "\n",
    "### Step 1\n",
    "\n",
    "First, we want a way to convert between characters and integers. Actually, under the hood, all of our characters are being represented as numbers via their *ASCII representation*.\n",
    "\n",
    "You can start to get a feel for how this works by running the following lines of code.\n",
    "\n",
    "```julia\n",
    "convert(Int, 'a')\n",
    "convert(Int, 'b')\n",
    "convert(Char, 97)\n",
    "convert(Char, 98)\n",
    "```"
   ]
  },
  {
   "cell_type": "code",
   "execution_count": 2,
   "metadata": {},
   "outputs": [
    {
     "data": {
      "text/plain": [
       "'b': ASCII/Unicode U+0062 (category Ll: Letter, lowercase)"
      ]
     },
     "execution_count": 2,
     "metadata": {},
     "output_type": "execute_result"
    }
   ],
   "source": [
    "convert(Int, 'a')\n",
    "convert(Int, 'b')\n",
    "convert(Char, 97)\n",
    "convert(Char, 98)"
   ]
  },
  {
   "cell_type": "markdown",
   "metadata": {},
   "source": [
    "What happens when you try to add an integer to a character? (Note that the difference between `Char`s and `String`s is important here!)"
   ]
  },
  {
   "cell_type": "code",
   "execution_count": 3,
   "metadata": {},
   "outputs": [
    {
     "data": {
      "text/plain": [
       "'b': ASCII/Unicode U+0062 (category Ll: Letter, lowercase)"
      ]
     },
     "execution_count": 3,
     "metadata": {},
     "output_type": "execute_result"
    }
   ],
   "source": [
    "'a'+1"
   ]
  },
  {
   "cell_type": "markdown",
   "metadata": {},
   "source": [
    "When we treat a string elementwise, what is the type of (`typeof`) each element?"
   ]
  },
  {
   "cell_type": "code",
   "execution_count": 4,
   "metadata": {},
   "outputs": [
    {
     "name": "stdout",
     "output_type": "stream",
     "text": [
      "H-Char\n",
      "e-Char\n",
      "l-Char\n",
      "l-Char\n",
      "o-Char\n"
     ]
    }
   ],
   "source": [
    "myString = \"Hello\"\n",
    "for i in 1:length(myString)\n",
    "    println(myString[i],\"-\",typeof(myString[i]))\n",
    "end"
   ]
  },
  {
   "cell_type": "markdown",
   "metadata": {},
   "source": [
    "### Step 2\n",
    "Try to write a function called `caesar(shift, stringin)` that encodes its input string, `stringin`, by shifting all letters in the alphabet by `shift`.\n",
    "\n",
    "One way to do this is to use the `map` or `broadcast` function!"
   ]
  },
  {
   "cell_type": "code",
   "execution_count": 5,
   "metadata": {},
   "outputs": [
    {
     "data": {
      "text/plain": [
       "caesar (generic function with 1 method)"
      ]
     },
     "execution_count": 5,
     "metadata": {},
     "output_type": "execute_result"
    }
   ],
   "source": [
    "function caesar(shift, stringin)\n",
    "    str = []\n",
    "    for i in 1:length(stringin)\n",
    "        str = push!(str,shift+stringin[i])\n",
    "    end\n",
    "    return join(str)\n",
    "end"
   ]
  },
  {
   "cell_type": "markdown",
   "metadata": {},
   "source": [
    "If you think you have this working, try out\n",
    "```julia\n",
    "caesar(-4, \"lipps\")\n",
    "```"
   ]
  },
  {
   "cell_type": "code",
   "execution_count": 6,
   "metadata": {},
   "outputs": [
    {
     "data": {
      "text/plain": [
       "\"hello\""
      ]
     },
     "execution_count": 6,
     "metadata": {},
     "output_type": "execute_result"
    }
   ],
   "source": [
    "caesar(-4, \"lipps\")"
   ]
  },
  {
   "cell_type": "markdown",
   "metadata": {},
   "source": [
    "### Step 3\n",
    "We want to extend the `+` operator to include a way to apply this cipher.\n",
    "\n",
    "The `+` operator lives in a place called \"Base\". Everything that lives in Base is accessible to us as users by default, but we need a special incantation to modify the things that live in Base. If we want to modify `+`, our incantation is\n",
    "\n",
    "```julia\n",
    "import Base: +\n",
    "```\n",
    "To perform string addition, write a method for `+` like this\n",
    "\n",
    "+(x::String, y::String) = string(x, y)"
   ]
  },
  {
   "cell_type": "code",
   "execution_count": 7,
   "metadata": {},
   "outputs": [
    {
     "data": {
      "text/plain": [
       "+ (generic function with 185 methods)"
      ]
     },
     "execution_count": 7,
     "metadata": {},
     "output_type": "execute_result"
    }
   ],
   "source": [
    "import Base: +\n",
    "+(x::String, y::String) = string(x, y)"
   ]
  },
  {
   "cell_type": "markdown",
   "metadata": {},
   "source": [
    "And now that you've extended `+` once, let's add another method for `+` that calls the `caesar` function we've written."
   ]
  },
  {
   "cell_type": "code",
   "execution_count": 8,
   "metadata": {},
   "outputs": [
    {
     "data": {
      "text/plain": [
       "caesar (generic function with 1 method)"
      ]
     },
     "execution_count": 8,
     "metadata": {},
     "output_type": "execute_result"
    }
   ],
   "source": [
    "function caesar(shift, stringin)\n",
    "    str = \"\"\n",
    "    for i = 1:length(stringin)\n",
    "        str = str+string(shift+stringin[nextind(stringin, 0, i)])\n",
    "    end\n",
    "    return str\n",
    "end"
   ]
  },
  {
   "cell_type": "code",
   "execution_count": null,
   "metadata": {},
   "outputs": [],
   "source": []
  },
  {
   "cell_type": "markdown",
   "metadata": {},
   "source": [
    "Test your final answer."
   ]
  },
  {
   "cell_type": "code",
   "execution_count": 9,
   "metadata": {},
   "outputs": [
    {
     "data": {
      "text/plain": [
       "\"hello\""
      ]
     },
     "execution_count": 9,
     "metadata": {},
     "output_type": "execute_result"
    }
   ],
   "source": [
    "caesar(-4, \"lipps\")"
   ]
  },
  {
   "cell_type": "code",
   "execution_count": 10,
   "metadata": {},
   "outputs": [
    {
     "data": {
      "text/plain": [
       "\"Do not meddle in the affairs of dragons for you are crunchy and taste good with ketchup.\""
      ]
     },
     "execution_count": 10,
     "metadata": {},
     "output_type": "execute_result"
    }
   ],
   "source": [
    "stringin=\"Kv'uv{'tlkksl'pu'{ol'hmmhpyz'vm'kyhnvuz'mvy'\\u80v|'hyl'jy|ujo\\u80'huk'{hz{l'nvvk'~p{o'rl{jo|w5\"\n",
    "caesar(-7, stringin)"
   ]
  },
  {
   "cell_type": "markdown",
   "metadata": {},
   "source": [
    "## Question 3\n",
    "\n",
    "Download the `test.csv` file from moddle. This data has passenger details of train travellers. Read the data and tidy it (handle the missing values). Calculate the average age for Male passengers and Female passengers."
   ]
  },
  {
   "cell_type": "code",
   "execution_count": 13,
   "metadata": {
    "scrolled": false
   },
   "outputs": [
    {
     "name": "stderr",
     "output_type": "stream",
     "text": [
      "┌ Info: Precompiling DataFrames [a93c6f00-e57d-5684-b7b6-d8193f3e46c0]\n",
      "└ @ Base loading.jl:1278\n"
     ]
    },
    {
     "ename": "LoadError",
     "evalue": "\u001b[91mArgumentError: provide a valid sink argument, like `using DataFrames; CSV.read(source, DataFrame)`\u001b[39m",
     "output_type": "error",
     "traceback": [
      "\u001b[91mArgumentError: provide a valid sink argument, like `using DataFrames; CSV.read(source, DataFrame)`\u001b[39m",
      "",
      "Stacktrace:",
      " [1] read(::String, ::Nothing; copycols::Bool, kwargs::Base.Iterators.Pairs{Symbol,Bool,Tuple{Symbol},NamedTuple{(:header,),Tuple{Bool}}}) at /Users/rajgopalnannapaneni/.julia/packages/CSV/CJfFO/src/CSV.jl:43",
      " [2] top-level scope at In[13]:5",
      " [3] include_string(::Function, ::Module, ::String, ::String) at ./loading.jl:1091"
     ]
    }
   ],
   "source": [
    "using CSV\n",
    "using DataFrames\n",
    "using Statistics\n",
    "\n",
    "PassengersData = CSV.read(\"test.csv\",header=true);\n",
    "df = DataFrame(Sex = PassengersData.Sex, Age = PassengersData.Age)\n",
    "PassengersData_clean = dropmissing(df);\n",
    "\n",
    "maleData = PassengersData_clean[findall(x-> x==lowercase(\"MALE\"),PassengersData_clean.Sex),:]\n",
    "println(\"Average male age is \",mean(maleData.Age),\" years\")\n",
    "\n",
    "femaleData = PassengersData_clean[findall(x-> x==lowercase(\"FEMALE\"),PassengersData_clean.Sex),:]\n",
    "println(\"Average female age is \",mean(femaleData.Age),\" years\")"
   ]
  },
  {
   "cell_type": "code",
   "execution_count": null,
   "metadata": {
    "scrolled": false
   },
   "outputs": [],
   "source": []
  },
  {
   "cell_type": "markdown",
   "metadata": {},
   "source": [
    "## Question 4   \n",
    "\n",
    "Download the file RestaurantData.zip file containing the data for this project assignment from the Moodle. Unzip the file in a directory that will serve as your working directory. When you start up Julia, make sure to change your working directory to the directory where you unzipped the data. \n",
    "\n",
    "The data for this project came from Kaggle where somebody had used the Zomato API to scrape the data. Zomato API Analysis is useful for foodies who want to taste the best cuisines of every part of the world which lies in their budget. \n",
    "\n",
    "For more information on Zomato API and Zomato API key you could visit https://developers.zomato.com/api#headline1 and https://developers.zomato.com/documentation\n",
    "Data Fetching: Data had been originally collected from the Zomato API in the form of .json files (raw data). The collected data has been stored in the Comma Separated Value file zomato.csv. \n",
    "\n",
    "Each restaurant in the dataset is uniquely identified by its Restaurant Id. Every Restaurant contains the following variables: <br>\n",
    "•\tRestaurant Id: Unique id of every restaurant across various cities of the world <br>\n",
    "•\tRestaurant Name: Name of the restaurant <br>\n",
    "•\tCountry Code: Country in which restaurant is located <br> \n",
    "•\tCity: City in which restaurant is located <br>\n",
    "•\tAddress: Address of the restaurant <br>\n",
    "•\tLocality: Location in the city <br>\n",
    "•\tLocality Verbose: Detailed description of the locality <br>\n",
    "•\tLongitude: Longitude coordinate of the restaurant's location <br>\n",
    "•\tLatitude: Latitude coordinate of the restaurant's location <br>\n",
    "•\tCuisines: Cuisines offered by the restaurant <br>\n",
    "•\tAverage Cost for two: Cost for two people in different currencies 👫 <br>\n",
    "•\tCurrency: Currency of the country <br>\n",
    "•\tHas Table booking: yes/no <br>\n",
    "•\tHas Online delivery: yes/ no <br>\n",
    "•\tIs delivering: yes/ no <br>\n",
    "•\tSwitch to order menu: yes/no <br>\n",
    "•\tPrice range: range of price of food <br>\n",
    "•\tAggregate Rating: Average rating out of 5 <br>\n",
    "•\tRating color: depending upon the average rating color <br>\n",
    "•\tRating text: text on the basis of rating of rating <br>\n",
    "•\tVotes: Number of ratings casted by people"
   ]
  },
  {
   "cell_type": "markdown",
   "metadata": {},
   "source": [
    "### 4.1 Plot the user rankings for the restaurants \n",
    "\n",
    "Read the zomato data into Julia via the `CSV.read` function and look at the first few rows.\n",
    "There are many columns in this dataset. You can see how many by typing `ncol(zomato)` (you can see the number of rows with the `nrow` function). In addition, you can see the names of each column by typing `names(zomato)` (the names are also listed on the previous page.) \n",
    "Make a simple histogram of the ratings (column 18 in the zomato dataset)."
   ]
  },
  {
   "cell_type": "code",
   "execution_count": 15,
   "metadata": {},
   "outputs": [
    {
     "name": "stderr",
     "output_type": "stream",
     "text": [
      "┌ Info: Precompiling Plots [91a5bcdd-55d7-5caf-9e0b-520d859cae80]\n",
      "└ @ Base loading.jl:1278\n"
     ]
    },
    {
     "ename": "LoadError",
     "evalue": "\u001b[91mArgumentError: provide a valid sink argument, like `using DataFrames; CSV.read(source, DataFrame)`\u001b[39m",
     "output_type": "error",
     "traceback": [
      "\u001b[91mArgumentError: provide a valid sink argument, like `using DataFrames; CSV.read(source, DataFrame)`\u001b[39m",
      "",
      "Stacktrace:",
      " [1] read(::String, ::Nothing; copycols::Bool, kwargs::Base.Iterators.Pairs{Union{},Union{},Tuple{},NamedTuple{(),Tuple{}}}) at /Users/rajgopalnannapaneni/.julia/packages/CSV/CJfFO/src/CSV.jl:43",
      " [2] read(::String, ::Nothing) at /Users/rajgopalnannapaneni/.julia/packages/CSV/CJfFO/src/CSV.jl:42 (repeats 2 times)",
      " [3] top-level scope at In[15]:4",
      " [4] include_string(::Function, ::Module, ::String, ::String) at ./loading.jl:1091"
     ]
    }
   ],
   "source": [
    "using CSV\n",
    "using Plots\n",
    "gr()\n",
    "zomato = CSV.read(\"./RestaurantData/zomato.csv\")\n",
    "\n",
    "histogram(zomato.\"Aggregate rating\")"
   ]
  },
  {
   "cell_type": "markdown",
   "metadata": {},
   "source": [
    "### 4.2 Finding the 3 best restaurants in a country by price range \n",
    "\n",
    "Write a function called best that takes two arguments: a 3-character country code of a country and a price range (numbers 1,2,3,4). The function should read the zomato.csv file and return a data frame with the names of the restaurant and the city that have the 3 best (i.e. highest) ranking for a price range in that country. There are 4 price range levels. Countries that do not have data on a particular price range should be excluded from the set of restaurants when deciding the rankings. \n",
    "Handling ties. If there is a tie for the best restaurant for a given price range, then the restaurant names should be sorted in alphabetical order.\n",
    "The function should use the following template. \n",
    "\n",
    "```julia\n",
    "Function best(country, pricerange)\n",
    "        ## Read zomato data\n",
    "        ## Check that country and price range are valid\n",
    "        ## Return restaurant name in that state with highest ranking\n",
    "end\n",
    "```\n",
    "\n",
    "The function should check the validity of its arguments. If an invalid country value is passed to best, the function should throw an error via the stop function with the exact message “invalid country”. If an invalid price range value is passed to best, the function should throw an error via the stop function with the exact message “invalid price range”. \n",
    "Here is some sample output from the function (WARNING: we will run different tests and the results shown here might not actually be correct)\n",
    "\n",
    "```julia\n",
    "julia> best(\"USA\", 1)\n",
    "3 rows × 2 columns\n",
    "\n",
    "  Restaurant Name       City                  \n",
    "  String                  String                 \n",
    "1 Oakwood Cafe            Dalton                \n",
    "2 Rae's Coastal Cafe      Augusta               \n",
    "3 Shorts Burger and Shine Cedar Rapids/Iowa City\n",
    "\n",
    "julia> best(\"IND\", 3)\n",
    "3 rows × 2 columns\n",
    "  Restaurant Name         City   \n",
    "  String                  String                 \n",
    "1 AB's - Absolute Barbecues Chennai\n",
    "2 Sagar Gaire Fast Food     Bhopal \n",
    "3 Sheroes Hangout           Agra\n",
    "\n",
    "julia> best(\"TGH\", 4)\n",
    "Error in best(\"TGH\", 4): invalid country\n",
    "\n",
    "julia> best(\"BRA\", 5)\n",
    "Error in best(\"BRA\", 5) : invalid price range\n",
    "```"
   ]
  },
  {
   "cell_type": "code",
   "execution_count": 13,
   "metadata": {},
   "outputs": [
    {
     "data": {
      "text/plain": [
       "best (generic function with 1 method)"
      ]
     },
     "execution_count": 13,
     "metadata": {},
     "output_type": "execute_result"
    }
   ],
   "source": [
    "function best(country,pricerange,top)\n",
    "    #================================================\n",
    "    best(country, pricerange, top)\n",
    "    country: Country name:\n",
    "    pricerange: Price range from 1 to 4\n",
    "    top: number of top restaurants to display in the \n",
    "    country for the perticular pricerange\n",
    "    ================================================#\n",
    "    \n",
    "    zomato = CSV.read(\"./RestaurantData/zomato.csv\",header=true)\n",
    "    \n",
    "    countryCodes = CSV.read(\"./RestaurantData/Country-Code.csv\",header=true)    \n",
    "        \n",
    "    if pricerange > maximum(zomato.\"Price range\")||pricerange < minimum(zomato.\"Price range\")\n",
    "        println(\"Error: invalid price range. Price range is between 1 and 4 \\n\\n\")\n",
    "        return\n",
    "    end\n",
    "        \n",
    "    quiriedCode = countryCodes[findall(x-> x==uppercase(country),countryCodes.\"3lettercode\"),1]\n",
    "    \n",
    "    if isempty(quiriedCode) == 1\n",
    "        println(\"Error: invalid country \\n\\n\")\n",
    "        return\n",
    "    end\n",
    "    \n",
    "    filteredRestaurants = zomato[findall(y-> y==quiriedCode[1],zomato.\"Country Code\"),:];\n",
    "    filteredRestaurants = filteredRestaurants[findall(pr-> pr==pricerange,\n",
    "            filteredRestaurants.\"Price range\"),:]\n",
    "    \n",
    "    \n",
    "    sort!(filteredRestaurants, :\"Restaurant Name\")\n",
    "    sort!(filteredRestaurants, :\"Aggregate rating\",rev=true)\n",
    "        \n",
    "    DF = DataFrame(Restaurant = filteredRestaurants.\"Restaurant Name\"[1:top], \n",
    "        City = filteredRestaurants.\"City\"[1:top],\n",
    "        Locality = filteredRestaurants.\"Locality\"[1:top],\n",
    "        Rating = filteredRestaurants.\"Aggregate rating\"[1:top],\n",
    "        PriceRange = filteredRestaurants.\"Price range\"[1:top])\n",
    "    \n",
    "    println(DF,\"\\n\\n\")\n",
    "    \n",
    "end\n",
    "\n"
   ]
  },
  {
   "cell_type": "code",
   "execution_count": 14,
   "metadata": {},
   "outputs": [
    {
     "name": "stdout",
     "output_type": "stream",
     "text": [
      "5×5 DataFrame\n",
      "│ Row │ Restaurant              │ City           │ Locality          │ Rating  │ PriceRange │\n",
      "│     │ \u001b[90mString\u001b[39m                  │ \u001b[90mString\u001b[39m         │ \u001b[90mString\u001b[39m            │ \u001b[90mFloat64\u001b[39m │ \u001b[90mInt64\u001b[39m      │\n",
      "├─────┼─────────────────────────┼────────────────┼───────────────────┼─────────┼────────────┤\n",
      "│ 1   │ Mama's Fish House       │ Rest of Hawaii │ Paia              │ 4.9     │ 4          │\n",
      "│ 2   │ Bern's Steak House      │ Tampa Bay      │ Hyde Park         │ 4.7     │ 4          │\n",
      "│ 3   │ Texas de Brazil         │ Orlando        │ I-Drive/Universal │ 4.6     │ 4          │\n",
      "│ 4   │ Duke's Waikiki          │ Rest of Hawaii │ Waikiki           │ 4.4     │ 4          │\n",
      "│ 5   │ Maggiano's Little Italy │ Orlando        │ I-Drive/Universal │ 4.4     │ 4          │\n",
      "\n",
      "\n",
      "5×5 DataFrame\n",
      "│ Row │ Restaurant        │ City             │ Locality                  │ Rating  │ PriceRange │\n",
      "│     │ \u001b[90mString\u001b[39m            │ \u001b[90mString\u001b[39m           │ \u001b[90mString\u001b[39m                    │ \u001b[90mFloat64\u001b[39m │ \u001b[90mInt64\u001b[39m      │\n",
      "├─────┼───────────────────┼──────────────────┼───────────────────────────┼─────────┼────────────┤\n",
      "│ 1   │ TT Burger         │ Rio de Janeiro   │ Galeria River, Copacabana │ 4.8     │ 3          │\n",
      "│ 2   │ Bibi              │ Rio de Janeiro   │ Copacabana                │ 4.7     │ 3          │\n",
      "│ 3   │ Aconchego Carioca │ Rio de Janeiro   │ Tijuca                    │ 4.6     │ 3          │\n",
      "│ 4   │ Balada Mix        │ Rio de Janeiro   │ Ipanema                   │ 4.6     │ 3          │\n",
      "│ 5   │ Veloso            │ S\\xed\\xa3o Paulo │ Vila Mariana              │ 4.6     │ 3          │\n",
      "\n",
      "\n",
      "5×5 DataFrame\n",
      "│ Row │ Restaurant                │ City      │ Locality        │ Rating  │ PriceRange │\n",
      "│     │ \u001b[90mString\u001b[39m                    │ \u001b[90mString\u001b[39m    │ \u001b[90mString\u001b[39m          │ \u001b[90mFloat64\u001b[39m │ \u001b[90mInt64\u001b[39m      │\n",
      "├─────┼───────────────────────────┼───────────┼─────────────────┼─────────┼────────────┤\n",
      "│ 1   │ Grandson of Tunday Kababi │ Lucknow   │ Aminabad        │ 4.9     │ 1          │\n",
      "│ 2   │ Naturals Ice Cream        │ New Delhi │ Connaught Place │ 4.9     │ 1          │\n",
      "│ 3   │ Sagar Gaire Fast Food     │ Bhopal    │ Arera Colony    │ 4.9     │ 1          │\n",
      "│ 4   │ Sheroes Hangout           │ Agra      │ Tajganj         │ 4.9     │ 1          │\n",
      "│ 5   │ Naturals Ice Cream        │ New Delhi │ Rajouri Garden  │ 4.7     │ 1          │\n",
      "\n",
      "\n"
     ]
    }
   ],
   "source": [
    "country = \"USA\"\n",
    "pricerange = 4\n",
    "top = 5\n",
    "\n",
    "best(country,pricerange,top)\n",
    "\n",
    "country = \"bra\"\n",
    "pricerange = 3\n",
    "best(country,pricerange,top)\n",
    "\n",
    "country = \"inD\"\n",
    "pricerange = 1\n",
    "best(country,pricerange,top)"
   ]
  },
  {
   "cell_type": "code",
   "execution_count": null,
   "metadata": {},
   "outputs": [],
   "source": []
  }
 ],
 "metadata": {
  "kernelspec": {
   "display_name": "Julia 1.5.3",
   "language": "julia",
   "name": "julia-1.5"
  },
  "language_info": {
   "file_extension": ".jl",
   "mimetype": "application/julia",
   "name": "julia",
   "version": "1.5.3"
  }
 },
 "nbformat": 4,
 "nbformat_minor": 2
}
