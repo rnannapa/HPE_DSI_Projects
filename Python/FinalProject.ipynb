{
 "cells": [
  {
   "cell_type": "markdown",
   "metadata": {},
   "source": [
    "# 1 Encryption\n",
    "\n",
    "Implement function easyCrypto() that takes as input a string and prints its encryption defined as follows: Every character at an odd position i in the alphabet will be encrypted with the character at position i + 1, and every character at an even position i will be encrypted with the character at position i - 1. In other words, ‘a’ is encrypted with ‘b’, ‘b’ with ‘a’, ‘c’ with ‘d’, ‘d’ with ‘c’, and so on. Lowercase characters should remain lowercase, and uppercase characters should remain uppercase.\n",
    "\n",
    "      easyCrypto( 'abc' )\n",
    "\n",
    "      bad\n",
    "\n",
    "      easyCrypto( 'Z00' )\n",
    "\n",
    "      YPP"
   ]
  },
  {
   "cell_type": "code",
   "execution_count": 1,
   "metadata": {},
   "outputs": [],
   "source": [
    "def easyCrypto(ipStr):\n",
    "    opStr = []\n",
    "    for i in range(len(ipStr)):\n",
    "        if ord(ipStr[i])%2 == 0:\n",
    "            opStr.append(chr(ord(ipStr[i])-1))\n",
    "        if ord(ipStr[i])%2 == 1:\n",
    "            opStr.append(chr(ord(ipStr[i])+1))\n",
    "    print(ipStr,'---',\"\".join(opStr))"
   ]
  },
  {
   "cell_type": "code",
   "execution_count": 2,
   "metadata": {},
   "outputs": [
    {
     "name": "stdout",
     "output_type": "stream",
     "text": [
      "abc --- bad\n",
      "ZOO --- YPP\n",
      "bac --- abd\n",
      "aPpLy --- bOoKz\n"
     ]
    }
   ],
   "source": [
    "easyCrypto( 'abc' )\n",
    "easyCrypto( 'ZOO' )\n",
    "easyCrypto( 'bac' )\n",
    "easyCrypto( 'aPpLy' )"
   ]
  },
  {
   "cell_type": "markdown",
   "metadata": {},
   "source": [
    "# 2 Kids Game\n",
    "\n",
    "Develop a simple game that teaches kindergartners how to add single-digit numbers.\n",
    "\n",
    "Your function game() will take an integer n as input and then ask n single-digit addition questions. The numbers to be added should be chosen randomly from the range [0, 9] (i.e.,0 to 9 inclusive). The user will enter the answer when prompted. Your function should print 'Correct' for correct answers and 'Incorrect' for incorrect answers. After n questions, your function should print the number of correct answers.\n",
    "\n",
    "      game(3)\n",
    "\n",
    "      8 + 2 =\n",
    "\n",
    "      Enter answer: 10\n",
    "\n",
    "      Correct.\n",
    "\n",
    "      6 + 7 =\n",
    "\n",
    "      Enter answer: 12\n",
    "\n",
    "      Incorrect.\n",
    "\n",
    "      7 + 7 =\n",
    "\n",
    "      Enter answer: 14\n",
    "\n",
    "      Correct.\n",
    "\n",
    "      You got 2 correct answers out of 3"
   ]
  },
  {
   "cell_type": "code",
   "execution_count": 3,
   "metadata": {},
   "outputs": [],
   "source": [
    "import numpy as np\n",
    "def game(n):\n",
    "    counter = 0\n",
    "    for i in range(n):\n",
    "        [a,b] = np.random.choice(10,2)\n",
    "        _sum = int(input(f\"Enter answer for {a}+{b} = \"))\n",
    "        \n",
    "        if a+b==_sum:\n",
    "            print(\"Correct\\n\")\n",
    "            counter = counter+1\n",
    "        else:\n",
    "            print(\"Incorrect\\n\")\n",
    "    print(f\"You got {counter} correct answers out of {n}\")"
   ]
  },
  {
   "cell_type": "code",
   "execution_count": 4,
   "metadata": {},
   "outputs": [
    {
     "name": "stdout",
     "output_type": "stream",
     "text": [
      "Enter answer for 8+1 = 9\n",
      "Correct\n",
      "\n",
      "Enter answer for 2+7 = 9\n",
      "Correct\n",
      "\n",
      "Enter answer for 2+0 = 2\n",
      "Correct\n",
      "\n",
      "You got 3 correct answers out of 3\n"
     ]
    }
   ],
   "source": [
    "game(3)"
   ]
  },
  {
   "cell_type": "markdown",
   "metadata": {},
   "source": [
    "# 3 Social network\n",
    "In your class, many students are friends. Let’s assume that two students sharing a friend must be friends themselves; in other words, if students 0 and 1 are friends and students 1 and 2 are friends, then students 0 and 2 must be friends. Using this rule, we can partition the students into circles of friends.\n",
    "\n",
    "To do this, implement a function networks() that takes two input arguments. The first is the number n of students in the class. We assume students are identified using integers 0 through n-1. The second input argument is a list of tuple objects that define friends. For example, tuple (0, 2) defines students 0 and 2 as friends. Function networks() should print the partition of students into circles of friends as illustrated:\n",
    "\n",
    "      networks(5, [(0, 1), (1, 2), (3, 4)])\n",
    "\n",
    "      Social network 0 is {0, 1, 2}\n",
    "\n",
    "      Social network 1 is {3, 4}\n",
    "\n"
   ]
  },
  {
   "cell_type": "code",
   "execution_count": 8,
   "metadata": {},
   "outputs": [],
   "source": [
    "def networks(n,lst):\n",
    "    students = []\n",
    "    for i in range(n):\n",
    "        students.append({i}) \n",
    "    for l in lst:\n",
    "        group = students[l[0]]|students[l[1]] \n",
    "#         print(group)\n",
    "        for j in group:\n",
    "            students[j] = group\n",
    "    sets= set()\n",
    "    for g in students:\n",
    "        sets.add(tuple(g))\n",
    "    i=0\n",
    "    for s in sets:\n",
    "        print(f\"social network {i} is {set(s)}\")\n",
    "        i+=1"
   ]
  },
  {
   "cell_type": "code",
   "execution_count": 9,
   "metadata": {},
   "outputs": [
    {
     "name": "stdout",
     "output_type": "stream",
     "text": [
      "social network 0 is {5, 6}\n",
      "social network 1 is {1, 3}\n",
      "social network 2 is {0, 2, 4}\n"
     ]
    }
   ],
   "source": [
    "n=7\n",
    "lst = [(0,2), (2,4), (3,1), (5,6)]\n",
    "networks(n,lst)"
   ]
  },
  {
   "cell_type": "markdown",
   "metadata": {},
   "source": [
    "# 4 Integrate a function by one trapezoid\n",
    "\n",
    "An approximation to the integral of a function f(x) over an interval [a, b] can found by first approximating f(x) by the straight line that goes through the end points (a, f(a)) and (b, f(b)), and then finding the area under the straight line (which is the area of a trapezoid). The resulting formula becomes \n",
    "\n",
    "https://wikimedia.org/api/rest_v1/media/math/render/svg/ff1e6d438c8e663ed8ab18d19b011371c24b3ac7 \n",
    "\n",
    "https://en.wikipedia.org/wiki/Trapezoidal_rule\n",
    "\n",
    "\n",
    "\n",
    "(4a) Write a function trapezint1(f, a, b) that returns this approximation to the integral. The argument f is a Python implementation f(x) of the mathematical function f(x).\n",
    "\n",
    "(4b) Write python code showing how you would do a line plot b vs trapezint1(f, a, b), assume a=0, and function f is the math.sin"
   ]
  },
  {
   "cell_type": "code",
   "execution_count": 13,
   "metadata": {},
   "outputs": [],
   "source": [
    "from math import *\n",
    "import numpy as np\n",
    "import matplotlib.pyplot as plt\n",
    "\n",
    "def trapezint1(f,a,b):\n",
    "    result = 0\n",
    "    h = np.linspace(a,b,100)\n",
    "    for i in h:\n",
    "        result += (i-a)*0.5*(f(a)+f(i))\n",
    "        a = i\n",
    "    return result"
   ]
  },
  {
   "cell_type": "code",
   "execution_count": 14,
   "metadata": {},
   "outputs": [
    {
     "name": "stdout",
     "output_type": "stream",
     "text": [
      "1.9998321638939924\n"
     ]
    },
    {
     "data": {
      "text/plain": [
       "Text(0, 0.5, '$\\\\int_a^b sin(x)$')"
      ]
     },
     "execution_count": 14,
     "metadata": {},
     "output_type": "execute_result"
    },
    {
     "data": {
      "image/png": "[encoded data removed]",
      "text/plain": [
       "<Figure size 600x400 with 1 Axes>"
      ]
     },
     "metadata": {
      "needs_background": "light"
     },
     "output_type": "display_data"
    }
   ],
   "source": [
    "f = lambda x: sin(x)\n",
    "print(trapezint1(f,0,np.pi))\n",
    "\n",
    "trap=[]\n",
    "bVal = np.linspace(0,np.pi,100)\n",
    "[trap.append(trapezint1(f,0,b)) for b in bVal]\n",
    "\n",
    "fig = plt.figure(figsize=(3,2),dpi=200)\n",
    "plt.rc('font', family='serif')\n",
    "plt.plot(bVal,trap,'r')\n",
    "plt.xlabel(r'$b$')\n",
    "plt.ylabel(r'$\\int_a^b sin(x)$')"
   ]
  },
  {
   "cell_type": "markdown",
   "metadata": {},
   "source": [
    "# 5 Detecting Trends and Foul Language in Twitter\n",
    "\n",
    "### OBJECTIVE\n",
    "\n",
    "This sub-project will allow you to practice manipulating dictionaries and files in your python scripts.The goal is to detect the presence of foul language and keep track of trendy topics in a sample of Twitter data. You will need two files posted on the course website: twitter_data.txt and swear_words.txt.\n",
    "\n",
    "WARNING: Some of the tweets in the sample file actually do contain swear words.\n",
    "\n",
    "## 5a)\n",
    "Detecting Foul Language in Twitter Microblogging sites such as Twitter and Ask.fm are sometimes misused to abuse people. In this part of the assignment your task is to screen each tweet for the presence of swear words. We provide an initial list of bad words in the file named swear_words.txt. The file twitter_data.txt contains real tweets collected to study cyberbullying. Each line is a different tweet. Write a function that will read each tweet in the file, will look for swear words, and will write to a new file named potentially_offensive_tweets.txt all tweets containing foul language. Note that the sample may have repeated tweets as well as tweets in a foreign language.  You may find the need to update your swear_words.txt file. That’s expected, as the list is not comprehensive."
   ]
  },
  {
   "cell_type": "code",
   "execution_count": 1,
   "metadata": {},
   "outputs": [],
   "source": [
    "import pandas as pd\n",
    "# !pip install googletrans\n",
    "import googletrans\n",
    "from googletrans import Translator\n",
    "# import httpx\n",
    "\n",
    "# timeout = httpx.Timeout(3) # Without this the translator timesout after a while\n",
    "# tr = Translator(timeout=timeout)"
   ]
  },
  {
   "cell_type": "code",
   "execution_count": 2,
   "metadata": {},
   "outputs": [],
   "source": [
    "file = open('swear_words.txt','r')\n",
    "sw = file.read().split()\n",
    "file.close()\n",
    "file = open('twitter_data.txt','r')\n",
    "tweets = file.readlines()\n",
    "file.close()"
   ]
  },
  {
   "cell_type": "code",
   "execution_count": 3,
   "metadata": {
    "scrolled": false
   },
   "outputs": [],
   "source": [
    "# >>> Delete previous file to make sure you don't write to same file again <<<\n",
    "!rm potentially_offensive_tweets.txt \n",
    "\n",
    "for i in range(len(tweets)):\n",
    "    tr = Translator()\n",
    "    file = open('potentially_offensive_tweets.txt', 'a+')\n",
    "    tweet = tr.translate(tweets[i]).text.split()\n",
    "    tweet = [tweet[j].lower() for j in range(len(tweet))]\n",
    "    \n",
    "    a = list(set(tweet).intersection(sw)) # if any of the sware words in the tweet\n",
    "    \n",
    "    if len(a)>0:\n",
    "        contents = file.readlines()\n",
    "        if tweets[i] in contents:\n",
    "            break\n",
    "        else:\n",
    "            file.write(str(i)+'---'+tweets[i])\n",
    "    else:\n",
    "        continue\n",
    "        \n",
    "file.close()"
   ]
  },
  {
   "cell_type": "markdown",
   "metadata": {},
   "source": [
    "## 5b) \n",
    "Detecting Topic Trends in Twitter\n",
    "\n",
    "One of the services Twitter provides its users is the ability to track the most popular topics. For this part of the assignment you will do something similar. Your task is to keep track of the topics identified by users with the hashtag symbol ‘#’. You will also need to count the frequency of the hashtags you found and provide a ranking of hashtags based on their frequency. The output of your script should be one file, named top_hashtags.txt, with the N most popular hashtags, where N is a parameter to your function. For example, assume this is the content of your twitter_data.txt file:\n",
    "\n",
    "      #lebron best athlete of our generation\n",
    "\n",
    "      ML 5 Demos! Lots of great stuff to come! Yes, I&#39;m excited. :) http://htmlfive.appspot.com #io2009 #googleio\n",
    "\n",
    "      At GWT fireside chat #googleio\n",
    "\n",
    "      @khalid0456 No, Lebron is the best #lebron\n",
    "\n",
    "      If N is set to 2, then your script should generate a file top_hashtags.txt with the following content (note that in case of ties the order doesn’t matter):\n",
    "\n",
    "      #googleio 2\n",
    "\n",
    "      #lebron 2"
   ]
  },
  {
   "cell_type": "code",
   "execution_count": 3,
   "metadata": {},
   "outputs": [
    {
     "ename": "ModuleNotFoundError",
     "evalue": "No module named 'numpy'",
     "output_type": "error",
     "traceback": [
      "\u001b[0;31m---------------------------------------------------------------------------\u001b[0m",
      "\u001b[0;31mModuleNotFoundError\u001b[0m                       Traceback (most recent call last)",
      "\u001b[0;32m<ipython-input-3-728ff29c0eac>\u001b[0m in \u001b[0;36m<module>\u001b[0;34m\u001b[0m\n\u001b[0;32m----> 1\u001b[0;31m \u001b[0;32mimport\u001b[0m \u001b[0mnumpy\u001b[0m \u001b[0;32mas\u001b[0m \u001b[0mnp\u001b[0m\u001b[0;34m\u001b[0m\u001b[0;34m\u001b[0m\u001b[0m\n\u001b[0m\u001b[1;32m      2\u001b[0m \u001b[0;32mdef\u001b[0m \u001b[0mtrending\u001b[0m\u001b[0;34m(\u001b[0m\u001b[0mN\u001b[0m\u001b[0;34m)\u001b[0m\u001b[0;34m:\u001b[0m\u001b[0;34m\u001b[0m\u001b[0;34m\u001b[0m\u001b[0m\n\u001b[1;32m      3\u001b[0m     \"\"\"\n\u001b[1;32m      4\u001b[0m     \u001b[0mOpen\u001b[0m \u001b[0;32mand\u001b[0m \u001b[0mread\u001b[0m \u001b[0mtwittet\u001b[0m \u001b[0mdata\u001b[0m \u001b[0;32mand\u001b[0m \u001b[0mgo\u001b[0m \u001b[0mthrough\u001b[0m \u001b[0meach\u001b[0m \u001b[0mtweet\u001b[0m \u001b[0mto\u001b[0m \u001b[0mfind\u001b[0m \u001b[0;31m#tags\u001b[0m\u001b[0;34m\u001b[0m\u001b[0;34m\u001b[0m\u001b[0m\n\u001b[1;32m      5\u001b[0m     \u001b[0;32mand\u001b[0m \u001b[0mkeep\u001b[0m \u001b[0mthem\u001b[0m \u001b[0;32min\u001b[0m \u001b[0ma\u001b[0m \u001b[0mdata\u001b[0m \u001b[0mbase\u001b[0m \u001b[0;32mwith\u001b[0m \u001b[0mthe\u001b[0m \u001b[0mtag\u001b[0m \u001b[0;32mand\u001b[0m \u001b[0mnumber\u001b[0m \u001b[0mof\u001b[0m \u001b[0mtimes\u001b[0m \u001b[0mthe\u001b[0m \u001b[0mword\u001b[0m\u001b[0;34m\u001b[0m\u001b[0;34m\u001b[0m\u001b[0m\n",
      "\u001b[0;31mModuleNotFoundError\u001b[0m: No module named 'numpy'"
     ]
    }
   ],
   "source": [
    "def trending(N):\n",
    "    \"\"\"\n",
    "    Open and read twittet data and go through each tweet to find #tags\n",
    "    and keep them in a data base with the tag and number of times the word \n",
    "    is tagged.\n",
    "    \n",
    "    Input: N\n",
    "    Output: .txt file with tags with N hashtags\n",
    "    \"\"\"\n",
    "    file = open('twitter_data.txt','r')\n",
    "    \n",
    "    tweets = file.readlines()\n",
    "    \n",
    "    file.close()\n",
    "    \n",
    "    tags = []\n",
    "    \n",
    "    for i in range(len(tweets)):\n",
    "        \n",
    "        tweet = tweets[i].split()\n",
    "        \n",
    "        for j in range(len(tweet)): \n",
    "            \n",
    "            if tweet[j][0] == '#': # check if the word in a tweet start with #\n",
    "                \n",
    "                tag = tweet[j]\n",
    "                \n",
    "                if tweet[j][-1] in ['!',',','.']:  # remove punctuation \n",
    "                    \n",
    "                    tag = tweet[j][:-1]\n",
    "                    \n",
    "                tags.append(tag.lower()) # Convert to upper or lower case to make \n",
    "                                         #sure you don't count them differently\n",
    "     \n",
    "    # Get the unique tags and number of unique values\n",
    "    [a,b] = np.unique(tags,return_counts=True)\n",
    "    a = list(a)\n",
    "    b = list(b)\n",
    "    \n",
    "    data = {'Tag': a,'Number': b}\n",
    "    df = pd.DataFrame(data)\n",
    "    np.savetxt('top_hashtags.txt',df[df.Number==N],fmt='%s --- %i')\n",
    "    return"
   ]
  },
  {
   "cell_type": "code",
   "execution_count": 2,
   "metadata": {},
   "outputs": [
    {
     "ename": "NameError",
     "evalue": "name 'np' is not defined",
     "output_type": "error",
     "traceback": [
      "\u001b[0;31m---------------------------------------------------------------------------\u001b[0m",
      "\u001b[0;31mNameError\u001b[0m                                 Traceback (most recent call last)",
      "\u001b[0;32m<ipython-input-2-327c27b36b13>\u001b[0m in \u001b[0;36m<module>\u001b[0;34m\u001b[0m\n\u001b[0;32m----> 1\u001b[0;31m \u001b[0mtrending\u001b[0m\u001b[0;34m(\u001b[0m\u001b[0;36m6\u001b[0m\u001b[0;34m)\u001b[0m\u001b[0;34m\u001b[0m\u001b[0;34m\u001b[0m\u001b[0m\n\u001b[0m",
      "\u001b[0;32m<ipython-input-1-364ecf001527>\u001b[0m in \u001b[0;36mtrending\u001b[0;34m(N)\u001b[0m\n\u001b[1;32m     34\u001b[0m \u001b[0;34m\u001b[0m\u001b[0m\n\u001b[1;32m     35\u001b[0m     \u001b[0;31m# Get the unique tags and number of unique values\u001b[0m\u001b[0;34m\u001b[0m\u001b[0;34m\u001b[0m\u001b[0;34m\u001b[0m\u001b[0m\n\u001b[0;32m---> 36\u001b[0;31m     \u001b[0;34m[\u001b[0m\u001b[0ma\u001b[0m\u001b[0;34m,\u001b[0m\u001b[0mb\u001b[0m\u001b[0;34m]\u001b[0m \u001b[0;34m=\u001b[0m \u001b[0mnp\u001b[0m\u001b[0;34m.\u001b[0m\u001b[0munique\u001b[0m\u001b[0;34m(\u001b[0m\u001b[0mtags\u001b[0m\u001b[0;34m,\u001b[0m\u001b[0mreturn_counts\u001b[0m\u001b[0;34m=\u001b[0m\u001b[0;32mTrue\u001b[0m\u001b[0;34m)\u001b[0m\u001b[0;34m\u001b[0m\u001b[0;34m\u001b[0m\u001b[0m\n\u001b[0m\u001b[1;32m     37\u001b[0m     \u001b[0ma\u001b[0m \u001b[0;34m=\u001b[0m \u001b[0mlist\u001b[0m\u001b[0;34m(\u001b[0m\u001b[0ma\u001b[0m\u001b[0;34m)\u001b[0m\u001b[0;34m\u001b[0m\u001b[0;34m\u001b[0m\u001b[0m\n\u001b[1;32m     38\u001b[0m     \u001b[0mb\u001b[0m \u001b[0;34m=\u001b[0m \u001b[0mlist\u001b[0m\u001b[0;34m(\u001b[0m\u001b[0mb\u001b[0m\u001b[0;34m)\u001b[0m\u001b[0;34m\u001b[0m\u001b[0;34m\u001b[0m\u001b[0m\n",
      "\u001b[0;31mNameError\u001b[0m: name 'np' is not defined"
     ]
    }
   ],
   "source": [
    "trending(6)"
   ]
  },
  {
   "cell_type": "code",
   "execution_count": null,
   "metadata": {},
   "outputs": [],
   "source": []
  }
 ],
 "metadata": {
  "kernelspec": {
   "display_name": "Python 3",
   "language": "python",
   "name": "python3"
  },
  "language_info": {
   "codemirror_mode": {
    "name": "ipython",
    "version": 3
   },
   "file_extension": ".py",
   "mimetype": "text/x-python",
   "name": "python",
   "nbconvert_exporter": "python",
   "pygments_lexer": "ipython3",
   "version": "3.8.5"
  }
 },
 "nbformat": 4,
 "nbformat_minor": 4
}
