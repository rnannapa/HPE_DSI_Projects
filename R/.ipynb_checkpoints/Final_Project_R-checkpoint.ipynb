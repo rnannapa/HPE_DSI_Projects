{
 "cells": [
  {
   "cell_type": "code",
   "execution_count": 1,
   "metadata": {
    "scrolled": false
   },
   "outputs": [
    {
     "name": "stderr",
     "output_type": "stream",
     "text": [
      "── Attaching packages ─────────────────────────────────────── tidyverse 1.3.0 ──\n",
      "✔ ggplot2 3.2.1     ✔ dplyr   1.0.3\n",
      "✔ tibble  3.0.3     ✔ stringr 1.4.0\n",
      "✔ tidyr   1.1.2     ✔ forcats 0.4.0\n",
      "✔ purrr   0.3.3     \n",
      "── Conflicts ────────────────────────────────────────── tidyverse_conflicts() ──\n",
      "✖ dplyr::filter() masks stats::filter()\n",
      "✖ dplyr::lag()    masks stats::lag()\n"
     ]
    },
    {
     "data": {
      "image/png": "[encoded data removed]",
      "text/plain": [
       "Plot with title “Histogram of zomato$`Aggregate rating`”"
      ]
     },
     "metadata": {},
     "output_type": "display_data"
    }
   ],
   "source": [
    "library(readr)\n",
    "library(tidyverse)\n",
    "library (\"purrr\")\n",
    "zomato <- read_csv(\"zomato.csv\",col_types = cols())\n",
    "countrycode <- read_csv(\"Country-Code.csv\",col_types = cols())\n",
    "hist(zomato$`Aggregate rating`)    "
   ]
  },
  {
   "cell_type": "markdown",
   "metadata": {},
   "source": [
    "### Part 1: Return the `top 3` resuaurants in given `country` for a given `price range`"
   ]
  },
  {
   "cell_type": "code",
   "execution_count": 2,
   "metadata": {},
   "outputs": [],
   "source": [
    "best <- function(country, pricerange) { \n",
    "    ## Read zomato data\n",
    "    ## Check that country and price range are valid\n",
    "    ## Return restaurant name in that state with highest ranking\n",
    "    \n",
    "    zomato <- read_csv(\"zomato.csv\",col_types = cols(),locale = locale(encoding = \"Latin1\"))\n",
    "    zomato <- zomato[order(zomato$`Restaurant Name`,decreasing = FALSE),]\n",
    "    countrycode <- read_csv(\"Country-Code.csv\",col_types = cols())\n",
    "    head(countrycode)\n",
    "    if (pricerange > max(zomato$`Price range`) || pricerange < min(zomato$`Price range`) ){\n",
    "        print(\"Error: invalid price range. Price range is between 1 and 4\\n\")\n",
    "        return()}\n",
    "    quiriedCode <- countrycode[toupper(countrycode$`3lettercode`) == toupper(country),1]\n",
    "    if (is_empty(quiriedCode$`Country Code`)=='TRUE'){\n",
    "        print(\"Error: invalid country given\")\n",
    "        return()}\n",
    "    \n",
    "    bycountry <- zomato[zomato$`Country Code` == quiriedCode$`Country Code`,]\n",
    "    bypricerange <- bycountry[bycountry$`Price range` == pricerange,]\n",
    "    filtered <- bypricerange[order(bypricerange$`Aggregate rating`,decreasing = TRUE),]\n",
    "    return(filtered[1:3,c(\"Restaurant Name\",\"City\",\"Aggregate rating\",\"Price range\")])\n",
    "}"
   ]
  },
  {
   "cell_type": "code",
   "execution_count": 3,
   "metadata": {
    "scrolled": false
   },
   "outputs": [
    {
     "data": {
      "text/html": [
       "<table>\n",
       "<thead><tr><th scope=col>Restaurant Name</th><th scope=col>City</th><th scope=col>Aggregate rating</th><th scope=col>Price range</th></tr></thead>\n",
       "<tbody>\n",
       "\t<tr><td>Ingleside Village Pizza </td><td>Macon                   </td><td>4.9                     </td><td>1                       </td></tr>\n",
       "\t<tr><td>Marukame Udon           </td><td>Rest of Hawaii          </td><td>4.9                     </td><td>1                       </td></tr>\n",
       "\t<tr><td>Mazzaro's Italian Market</td><td>Tampa Bay               </td><td>4.9                     </td><td>1                       </td></tr>\n",
       "</tbody>\n",
       "</table>\n"
      ],
      "text/latex": [
       "\\begin{tabular}{r|llll}\n",
       " Restaurant Name & City & Aggregate rating & Price range\\\\\n",
       "\\hline\n",
       "\t Ingleside Village Pizza  & Macon                    & 4.9                      & 1                       \\\\\n",
       "\t Marukame Udon            & Rest of Hawaii           & 4.9                      & 1                       \\\\\n",
       "\t Mazzaro's Italian Market & Tampa Bay                & 4.9                      & 1                       \\\\\n",
       "\\end{tabular}\n"
      ],
      "text/markdown": [
       "\n",
       "Restaurant Name | City | Aggregate rating | Price range | \n",
       "|---|---|---|\n",
       "| Ingleside Village Pizza  | Macon                    | 4.9                      | 1                        | \n",
       "| Marukame Udon            | Rest of Hawaii           | 4.9                      | 1                        | \n",
       "| Mazzaro's Italian Market | Tampa Bay                | 4.9                      | 1                        | \n",
       "\n",
       "\n"
      ],
      "text/plain": [
       "  Restaurant Name          City           Aggregate rating Price range\n",
       "1 Ingleside Village Pizza  Macon          4.9              1          \n",
       "2 Marukame Udon            Rest of Hawaii 4.9              1          \n",
       "3 Mazzaro's Italian Market Tampa Bay      4.9              1          "
      ]
     },
     "metadata": {},
     "output_type": "display_data"
    },
    {
     "name": "stderr",
     "output_type": "stream",
     "text": [
      "Warning message:\n",
      "“The `i` argument of ``[.tbl_df`()` must lie in [0, rows] if positive, as of tibble 3.0.0.\n",
      "Use `NA_integer_` as row index to obtain a row full of `NA` values.\n",
      "This warning is displayed once every 8 hours.\n",
      "Call `lifecycle::last_warnings()` to see where this warning was generated.”"
     ]
    },
    {
     "data": {
      "text/html": [
       "<table>\n",
       "<thead><tr><th scope=col>Restaurant Name</th><th scope=col>City</th><th scope=col>Aggregate rating</th><th scope=col>Price range</th></tr></thead>\n",
       "<tbody>\n",
       "\t<tr><td>NA</td><td>NA</td><td>NA</td><td>NA</td></tr>\n",
       "\t<tr><td>NA</td><td>NA</td><td>NA</td><td>NA</td></tr>\n",
       "\t<tr><td>NA</td><td>NA</td><td>NA</td><td>NA</td></tr>\n",
       "</tbody>\n",
       "</table>\n"
      ],
      "text/latex": [
       "\\begin{tabular}{r|llll}\n",
       " Restaurant Name & City & Aggregate rating & Price range\\\\\n",
       "\\hline\n",
       "\t NA & NA & NA & NA\\\\\n",
       "\t NA & NA & NA & NA\\\\\n",
       "\t NA & NA & NA & NA\\\\\n",
       "\\end{tabular}\n"
      ],
      "text/markdown": [
       "\n",
       "Restaurant Name | City | Aggregate rating | Price range | \n",
       "|---|---|---|\n",
       "| NA | NA | NA | NA | \n",
       "| NA | NA | NA | NA | \n",
       "| NA | NA | NA | NA | \n",
       "\n",
       "\n"
      ],
      "text/plain": [
       "  Restaurant Name City Aggregate rating Price range\n",
       "1 NA              NA   NA               NA         \n",
       "2 NA              NA   NA               NA         \n",
       "3 NA              NA   NA               NA         "
      ]
     },
     "metadata": {},
     "output_type": "display_data"
    },
    {
     "data": {
      "text/html": [
       "<table>\n",
       "<thead><tr><th scope=col>Restaurant Name</th><th scope=col>City</th><th scope=col>Aggregate rating</th><th scope=col>Price range</th></tr></thead>\n",
       "<tbody>\n",
       "\t<tr><td><span style=white-space:pre-wrap>Duck &amp; Waffle    </span></td><td><span style=white-space:pre-wrap>London    </span>           </td><td>4.9                                                          </td><td>3                                                            </td></tr>\n",
       "\t<tr><td>Solita           </td><td>Manchester       </td><td>4.9              </td><td>3                </td></tr>\n",
       "\t<tr><td>Roseleaf Bar Cafe</td><td>Edinburgh        </td><td>4.7              </td><td>3                </td></tr>\n",
       "</tbody>\n",
       "</table>\n"
      ],
      "text/latex": [
       "\\begin{tabular}{r|llll}\n",
       " Restaurant Name & City & Aggregate rating & Price range\\\\\n",
       "\\hline\n",
       "\t Duck \\& Waffle     & London              & 4.9                 & 3                  \\\\\n",
       "\t Solita            & Manchester        & 4.9               & 3                \\\\\n",
       "\t Roseleaf Bar Cafe & Edinburgh         & 4.7               & 3                \\\\\n",
       "\\end{tabular}\n"
      ],
      "text/markdown": [
       "\n",
       "Restaurant Name | City | Aggregate rating | Price range | \n",
       "|---|---|---|\n",
       "| Duck & Waffle     | London            | 4.9               | 3                 | \n",
       "| Solita            | Manchester        | 4.9               | 3                 | \n",
       "| Roseleaf Bar Cafe | Edinburgh         | 4.7               | 3                 | \n",
       "\n",
       "\n"
      ],
      "text/plain": [
       "  Restaurant Name   City       Aggregate rating Price range\n",
       "1 Duck & Waffle     London     4.9              3          \n",
       "2 Solita            Manchester 4.9              3          \n",
       "3 Roseleaf Bar Cafe Edinburgh  4.7              3          "
      ]
     },
     "metadata": {},
     "output_type": "display_data"
    },
    {
     "data": {
      "text/html": [
       "<table>\n",
       "<thead><tr><th scope=col>Restaurant Name</th><th scope=col>City</th><th scope=col>Aggregate rating</th><th scope=col>Price range</th></tr></thead>\n",
       "<tbody>\n",
       "\t<tr><td>Braseiro da Gíçvea</td><td>Rio de Janeiro    </td><td>4.9               </td><td>4                 </td></tr>\n",
       "\t<tr><td>Coco Bambu        </td><td>Brasí_lia         </td><td>4.9               </td><td>4                 </td></tr>\n",
       "\t<tr><td>Garota de Ipanema </td><td>Rio de Janeiro    </td><td>4.9               </td><td>4                 </td></tr>\n",
       "</tbody>\n",
       "</table>\n"
      ],
      "text/latex": [
       "\\begin{tabular}{r|llll}\n",
       " Restaurant Name & City & Aggregate rating & Price range\\\\\n",
       "\\hline\n",
       "\t Braseiro da Gíçvea & Rio de Janeiro     & 4.9                & 4                 \\\\\n",
       "\t Coco Bambu         & Brasí\\_lia        & 4.9                & 4                 \\\\\n",
       "\t Garota de Ipanema  & Rio de Janeiro     & 4.9                & 4                 \\\\\n",
       "\\end{tabular}\n"
      ],
      "text/markdown": [
       "\n",
       "Restaurant Name | City | Aggregate rating | Price range | \n",
       "|---|---|---|\n",
       "| Braseiro da Gíçvea | Rio de Janeiro     | 4.9                | 4                  | \n",
       "| Coco Bambu         | Brasí_lia          | 4.9                | 4                  | \n",
       "| Garota de Ipanema  | Rio de Janeiro     | 4.9                | 4                  | \n",
       "\n",
       "\n"
      ],
      "text/plain": [
       "  Restaurant Name    City           Aggregate rating Price range\n",
       "1 Braseiro da Gíçvea Rio de Janeiro 4.9              4          \n",
       "2 Coco Bambu         Brasí_lia      4.9              4          \n",
       "3 Garota de Ipanema  Rio de Janeiro 4.9              4          "
      ]
     },
     "metadata": {},
     "output_type": "display_data"
    }
   ],
   "source": [
    "best('USA',1)\n",
    "\n",
    "best('CAN',3)\n",
    "\n",
    "best('GBR',3)\n",
    "\n",
    "best('BRA',4)"
   ]
  },
  {
   "cell_type": "markdown",
   "metadata": {},
   "source": [
    "### Part 2: Return the restaurant at position `num` in a given `country` for a given `price range`"
   ]
  },
  {
   "cell_type": "code",
   "execution_count": 4,
   "metadata": {},
   "outputs": [],
   "source": [
    "bestrestaurant <- function(country, pricerange,num=\"best\") { \n",
    "    ## Read zomato data\n",
    "    ## Check that country and price range are valid\n",
    "    ## Return restaurant with num ranking\n",
    "    \n",
    "    zomato <- read_csv(\"zomato.csv\",col_types = cols(),locale = locale(encoding = \"Latin1\"))\n",
    "    zomato <- zomato[order(zomato$`Restaurant Name`,decreasing = FALSE),]\n",
    "    countrycode <- read_csv(\"Country-Code.csv\",col_types = cols())\n",
    "    head(countrycode)\n",
    "    if (pricerange > max(zomato$`Price range`) || pricerange < min(zomato$`Price range`) ){\n",
    "        print(\"Error: invalid price range. Price range is between 1 and 4\\n\")\n",
    "        return()}\n",
    "    quiriedCode <- countrycode[toupper(countrycode$`3lettercode`) == toupper(country),1]\n",
    "    if (is_empty(quiriedCode$`Country Code`)=='TRUE'){\n",
    "        print(\"Error: invalid country given\")\n",
    "        return()}\n",
    "    \n",
    "    bycountry <- zomato[zomato$`Country Code` == quiriedCode$`Country Code`,]\n",
    "    bypricerange <- bycountry[bycountry$`Price range` == pricerange,]\n",
    "    filtered <- bypricerange[order(bypricerange$`Aggregate rating`,decreasing = TRUE),]\n",
    "    \n",
    "    if (num==\"best\"){\n",
    "        return(filtered[1,c(\"Restaurant Name\",\"City\",\"Aggregate rating\",\"Price range\")])\n",
    "    }\n",
    "    if (num==\"worst\"){\n",
    "        return(filtered[nrow(filtered),c(\"Restaurant Name\",\"City\",\"Aggregate rating\",\"Price range\")])\n",
    "    }\n",
    "    if (num > nrow(filtered)){\n",
    "        print(\"NA\")\n",
    "        return()\n",
    "    }\n",
    "    return(tibble(filtered[num,c(\"Restaurant Name\",\"City\",\"Aggregate rating\",\"Price range\")]))\n",
    "}"
   ]
  },
  {
   "cell_type": "code",
   "execution_count": 5,
   "metadata": {
    "scrolled": false
   },
   "outputs": [
    {
     "data": {
      "text/html": [
       "<table>\n",
       "<thead><tr><th scope=col>Restaurant Name</th><th scope=col>City</th><th scope=col>Aggregate rating</th><th scope=col>Price range</th></tr></thead>\n",
       "<tbody>\n",
       "\t<tr><td>Cafí© Daniel Briand</td><td>Brasí_lia          </td><td>3.8                </td><td>1                  </td></tr>\n",
       "</tbody>\n",
       "</table>\n"
      ],
      "text/latex": [
       "\\begin{tabular}{r|llll}\n",
       " Restaurant Name & City & Aggregate rating & Price range\\\\\n",
       "\\hline\n",
       "\t Cafí© Daniel Briand & Brasí\\_lia         & 3.8                 & 1                  \\\\\n",
       "\\end{tabular}\n"
      ],
      "text/markdown": [
       "\n",
       "Restaurant Name | City | Aggregate rating | Price range | \n",
       "|---|\n",
       "| Cafí© Daniel Briand | Brasí_lia           | 3.8                 | 1                   | \n",
       "\n",
       "\n"
      ],
      "text/plain": [
       "  Restaurant Name     City      Aggregate rating Price range\n",
       "1 Cafí© Daniel Briand Brasí_lia 3.8              1          "
      ]
     },
     "metadata": {},
     "output_type": "display_data"
    },
    {
     "data": {
      "text/html": [
       "<table>\n",
       "<thead><tr><th scope=col>Restaurant Name</th><th scope=col>City</th><th scope=col>Aggregate rating</th><th scope=col>Price range</th></tr></thead>\n",
       "<tbody>\n",
       "\t<tr><td>CakeBee   </td><td>Coimbatore</td><td>4.9       </td><td>2         </td></tr>\n",
       "</tbody>\n",
       "</table>\n"
      ],
      "text/latex": [
       "\\begin{tabular}{r|llll}\n",
       " Restaurant Name & City & Aggregate rating & Price range\\\\\n",
       "\\hline\n",
       "\t CakeBee    & Coimbatore & 4.9        & 2         \\\\\n",
       "\\end{tabular}\n"
      ],
      "text/markdown": [
       "\n",
       "Restaurant Name | City | Aggregate rating | Price range | \n",
       "|---|\n",
       "| CakeBee    | Coimbatore | 4.9        | 2          | \n",
       "\n",
       "\n"
      ],
      "text/plain": [
       "  Restaurant Name City       Aggregate rating Price range\n",
       "1 CakeBee         Coimbatore 4.9              2          "
      ]
     },
     "metadata": {},
     "output_type": "display_data"
    },
    {
     "data": {
      "text/html": [
       "<table>\n",
       "<thead><tr><th scope=col>Restaurant Name</th><th scope=col>City</th><th scope=col>Aggregate rating</th><th scope=col>Price range</th></tr></thead>\n",
       "<tbody>\n",
       "\t<tr><td>Poets Cafe</td><td>Montville </td><td>2.4       </td><td>3         </td></tr>\n",
       "</tbody>\n",
       "</table>\n"
      ],
      "text/latex": [
       "\\begin{tabular}{r|llll}\n",
       " Restaurant Name & City & Aggregate rating & Price range\\\\\n",
       "\\hline\n",
       "\t Poets Cafe & Montville  & 2.4        & 3         \\\\\n",
       "\\end{tabular}\n"
      ],
      "text/markdown": [
       "\n",
       "Restaurant Name | City | Aggregate rating | Price range | \n",
       "|---|\n",
       "| Poets Cafe | Montville  | 2.4        | 3          | \n",
       "\n",
       "\n"
      ],
      "text/plain": [
       "  Restaurant Name City      Aggregate rating Price range\n",
       "1 Poets Cafe      Montville 2.4              3          "
      ]
     },
     "metadata": {},
     "output_type": "display_data"
    },
    {
     "data": {
      "text/html": [
       "<table>\n",
       "<thead><tr><th scope=col>Restaurant Name</th><th scope=col>City</th><th scope=col>Aggregate rating</th><th scope=col>Price range</th></tr></thead>\n",
       "<tbody>\n",
       "\t<tr><td>Roy's         </td><td>Rest of Hawaii</td><td>4.2           </td><td>4             </td></tr>\n",
       "</tbody>\n",
       "</table>\n"
      ],
      "text/latex": [
       "\\begin{tabular}{r|llll}\n",
       " Restaurant Name & City & Aggregate rating & Price range\\\\\n",
       "\\hline\n",
       "\t Roy's          & Rest of Hawaii & 4.2            & 4             \\\\\n",
       "\\end{tabular}\n"
      ],
      "text/markdown": [
       "\n",
       "Restaurant Name | City | Aggregate rating | Price range | \n",
       "|---|\n",
       "| Roy's          | Rest of Hawaii | 4.2            | 4              | \n",
       "\n",
       "\n"
      ],
      "text/plain": [
       "  Restaurant Name City           Aggregate rating Price range\n",
       "1 Roy's           Rest of Hawaii 4.2              4          "
      ]
     },
     "metadata": {},
     "output_type": "display_data"
    }
   ],
   "source": [
    "bestrestaurant(\"Bra\",1,1)\n",
    "bestrestaurant(\"Ind\",2,\"best\")\n",
    "bestrestaurant(\"AUS\",3,\"worst\")\n",
    "bestrestaurant(\"USA\",4,10)"
   ]
  },
  {
   "cell_type": "markdown",
   "metadata": {},
   "source": [
    "### Part 3: Return the restaurant at position `num` in all countries for a given `price range`"
   ]
  },
  {
   "cell_type": "code",
   "execution_count": 6,
   "metadata": {},
   "outputs": [],
   "source": [
    "rankall <- function(pricerange,num=\"best\"){\n",
    "    ## Read zomato data\n",
    "    ## Check that pricerange and num are valid\n",
    "    ## For each country, find the restaurant of the given rank\n",
    "    ## Return a tibble with the restaurant names and the country code\n",
    "    zomato <- read_csv(\"zomato.csv\",col_types = cols(),locale = locale(encoding = \"Latin1\"))\n",
    "    zomato <- zomato[order(zomato$`Restaurant Name`,decreasing = FALSE),]\n",
    "    CC <- read_csv(\"Country-Code.csv\",col_types = cols())\n",
    "    if (pricerange > max(zomato$`Price range`) || pricerange < min(zomato$`Price range`) ){\n",
    "        print(\"Error: invalid price range. Price range is between 1 and 4\\n\")\n",
    "        return()}\n",
    "\n",
    "    bypricerange <- zomato[zomato$`Price range` == pricerange,]\n",
    "    filtered <- bypricerange[order(bypricerange$`Aggregate rating`,decreasing = TRUE),]\n",
    "    filtered <- filtered[order(filtered$`Country Code`,decreasing=FALSE),c(\"Restaurant Name\",\"Country Code\",\"Price range\",\"Aggregate rating\")]\n",
    "    x<-data.matrix(CC[,1])\n",
    "    \n",
    "    toReturn = data.frame()\n",
    "    \n",
    "    \n",
    "    for (i in 1:nrow(x)){\n",
    "        byCountry<-filtered[filtered$\"Country Code\"==x[i],]\n",
    "        if (num==\"best\"){\n",
    "            restaurant <- byCountry[1,c(\"Restaurant Name\")]\n",
    "        }else if (num==\"worst\"){\n",
    "            restaurant <- byCountry[nrow(byCountry),c(\"Restaurant Name\")]\n",
    "        }else{\n",
    "            restaurant <- byCountry[num,c(\"Restaurant Name\")]\n",
    "        }\n",
    "        \n",
    "        temp <- data.frame(c(restaurant,CC[i,3]))\n",
    "        toReturn <- rbind(toReturn, temp)\n",
    "    }\n",
    "    \n",
    "    names(toReturn) <- c(\"Restaurant Name\",\"Country\")\n",
    "    return(toReturn)\n",
    "    \n",
    "}\n"
   ]
  },
  {
   "cell_type": "code",
   "execution_count": 7,
   "metadata": {
    "scrolled": false
   },
   "outputs": [
    {
     "data": {
      "text/html": [
       "<table>\n",
       "<thead><tr><th scope=col>Restaurant Name</th><th scope=col>Country</th></tr></thead>\n",
       "<tbody>\n",
       "\t<tr><td>Sagar Gaire Fast Food   </td><td>IND                     </td></tr>\n",
       "\t<tr><td>Beach Box Cafe          </td><td>AUS                     </td></tr>\n",
       "\t<tr><td>NA                      </td><td>BRA                     </td></tr>\n",
       "\t<tr><td>NA                      </td><td>CAN                     </td></tr>\n",
       "\t<tr><td>NA                      </td><td>IDN                     </td></tr>\n",
       "\t<tr><td>Ekim Burgers            </td><td>NZL                     </td></tr>\n",
       "\t<tr><td>NA                      </td><td>PHL                     </td></tr>\n",
       "\t<tr><td>NA                      </td><td>QAT                     </td></tr>\n",
       "\t<tr><td>NA                      </td><td>SGP                     </td></tr>\n",
       "\t<tr><td>NA                      </td><td>ZAF                     </td></tr>\n",
       "\t<tr><td>NA                      </td><td>LKA                     </td></tr>\n",
       "\t<tr><td>NA                      </td><td>TUR                     </td></tr>\n",
       "\t<tr><td>NA                      </td><td>ARE                     </td></tr>\n",
       "\t<tr><td>Jamjar                  </td><td>GBR                     </td></tr>\n",
       "\t<tr><td>Mazzaro's Italian Market</td><td>USA                     </td></tr>\n",
       "</tbody>\n",
       "</table>\n"
      ],
      "text/latex": [
       "\\begin{tabular}{r|ll}\n",
       " Restaurant Name & Country\\\\\n",
       "\\hline\n",
       "\t Sagar Gaire Fast Food    & IND                     \\\\\n",
       "\t Beach Box Cafe           & AUS                     \\\\\n",
       "\t NA                       & BRA                     \\\\\n",
       "\t NA                       & CAN                     \\\\\n",
       "\t NA                       & IDN                     \\\\\n",
       "\t Ekim Burgers             & NZL                     \\\\\n",
       "\t NA                       & PHL                     \\\\\n",
       "\t NA                       & QAT                     \\\\\n",
       "\t NA                       & SGP                     \\\\\n",
       "\t NA                       & ZAF                     \\\\\n",
       "\t NA                       & LKA                     \\\\\n",
       "\t NA                       & TUR                     \\\\\n",
       "\t NA                       & ARE                     \\\\\n",
       "\t Jamjar                   & GBR                     \\\\\n",
       "\t Mazzaro's Italian Market & USA                     \\\\\n",
       "\\end{tabular}\n"
      ],
      "text/markdown": [
       "\n",
       "Restaurant Name | Country | \n",
       "|---|---|---|---|---|---|---|---|---|---|---|---|---|---|---|\n",
       "| Sagar Gaire Fast Food    | IND                      | \n",
       "| Beach Box Cafe           | AUS                      | \n",
       "| NA                       | BRA                      | \n",
       "| NA                       | CAN                      | \n",
       "| NA                       | IDN                      | \n",
       "| Ekim Burgers             | NZL                      | \n",
       "| NA                       | PHL                      | \n",
       "| NA                       | QAT                      | \n",
       "| NA                       | SGP                      | \n",
       "| NA                       | ZAF                      | \n",
       "| NA                       | LKA                      | \n",
       "| NA                       | TUR                      | \n",
       "| NA                       | ARE                      | \n",
       "| Jamjar                   | GBR                      | \n",
       "| Mazzaro's Italian Market | USA                      | \n",
       "\n",
       "\n"
      ],
      "text/plain": [
       "   Restaurant Name          Country\n",
       "1  Sagar Gaire Fast Food    IND    \n",
       "2  Beach Box Cafe           AUS    \n",
       "3  NA                       BRA    \n",
       "4  NA                       CAN    \n",
       "5  NA                       IDN    \n",
       "6  Ekim Burgers             NZL    \n",
       "7  NA                       PHL    \n",
       "8  NA                       QAT    \n",
       "9  NA                       SGP    \n",
       "10 NA                       ZAF    \n",
       "11 NA                       LKA    \n",
       "12 NA                       TUR    \n",
       "13 NA                       ARE    \n",
       "14 Jamjar                   GBR    \n",
       "15 Mazzaro's Italian Market USA    "
      ]
     },
     "metadata": {},
     "output_type": "display_data"
    },
    {
     "data": {
      "text/html": [
       "<table>\n",
       "<thead><tr><th scope=col>Restaurant Name</th><th scope=col>Country</th></tr></thead>\n",
       "<tbody>\n",
       "\t<tr><td>Zombiez                        </td><td>IND                            </td></tr>\n",
       "\t<tr><td>Star Buffet                    </td><td>AUS                            </td></tr>\n",
       "\t<tr><td>Super Grill                    </td><td>BRA                            </td></tr>\n",
       "\t<tr><td>Consort Restaurant             </td><td>CAN                            </td></tr>\n",
       "\t<tr><td>Momo Milk                      </td><td>IDN                            </td></tr>\n",
       "\t<tr><td>Midnight Espresso              </td><td>NZL                            </td></tr>\n",
       "\t<tr><td>Hobing Korean Dessert Cafe     </td><td>PHL                            </td></tr>\n",
       "\t<tr><td>Gokul Gujarati Restaurant      </td><td>QAT                            </td></tr>\n",
       "\t<tr><td>Al'frank Cookies               </td><td>SGP                            </td></tr>\n",
       "\t<tr><td>Jason Bakery                   </td><td>ZAF                            </td></tr>\n",
       "\t<tr><td>Elite Indian Restaurant        </td><td>LKA                            </td></tr>\n",
       "\t<tr><td>Liva                           </td><td>TUR                            </td></tr>\n",
       "\t<tr><td>Sangeetha Vegetarian Restaurant</td><td>ARE                            </td></tr>\n",
       "\t<tr><td>Damascena Coffee House         </td><td>GBR                            </td></tr>\n",
       "\t<tr><td>Nosh Mahal                     </td><td>USA                            </td></tr>\n",
       "</tbody>\n",
       "</table>\n"
      ],
      "text/latex": [
       "\\begin{tabular}{r|ll}\n",
       " Restaurant Name & Country\\\\\n",
       "\\hline\n",
       "\t Zombiez                         & IND                            \\\\\n",
       "\t Star Buffet                     & AUS                            \\\\\n",
       "\t Super Grill                     & BRA                            \\\\\n",
       "\t Consort Restaurant              & CAN                            \\\\\n",
       "\t Momo Milk                       & IDN                            \\\\\n",
       "\t Midnight Espresso               & NZL                            \\\\\n",
       "\t Hobing Korean Dessert Cafe      & PHL                            \\\\\n",
       "\t Gokul Gujarati Restaurant       & QAT                            \\\\\n",
       "\t Al'frank Cookies                & SGP                            \\\\\n",
       "\t Jason Bakery                    & ZAF                            \\\\\n",
       "\t Elite Indian Restaurant         & LKA                            \\\\\n",
       "\t Liva                            & TUR                            \\\\\n",
       "\t Sangeetha Vegetarian Restaurant & ARE                            \\\\\n",
       "\t Damascena Coffee House          & GBR                            \\\\\n",
       "\t Nosh Mahal                      & USA                            \\\\\n",
       "\\end{tabular}\n"
      ],
      "text/markdown": [
       "\n",
       "Restaurant Name | Country | \n",
       "|---|---|---|---|---|---|---|---|---|---|---|---|---|---|---|\n",
       "| Zombiez                         | IND                             | \n",
       "| Star Buffet                     | AUS                             | \n",
       "| Super Grill                     | BRA                             | \n",
       "| Consort Restaurant              | CAN                             | \n",
       "| Momo Milk                       | IDN                             | \n",
       "| Midnight Espresso               | NZL                             | \n",
       "| Hobing Korean Dessert Cafe      | PHL                             | \n",
       "| Gokul Gujarati Restaurant       | QAT                             | \n",
       "| Al'frank Cookies                | SGP                             | \n",
       "| Jason Bakery                    | ZAF                             | \n",
       "| Elite Indian Restaurant         | LKA                             | \n",
       "| Liva                            | TUR                             | \n",
       "| Sangeetha Vegetarian Restaurant | ARE                             | \n",
       "| Damascena Coffee House          | GBR                             | \n",
       "| Nosh Mahal                      | USA                             | \n",
       "\n",
       "\n"
      ],
      "text/plain": [
       "   Restaurant Name                 Country\n",
       "1  Zombiez                         IND    \n",
       "2  Star Buffet                     AUS    \n",
       "3  Super Grill                     BRA    \n",
       "4  Consort Restaurant              CAN    \n",
       "5  Momo Milk                       IDN    \n",
       "6  Midnight Espresso               NZL    \n",
       "7  Hobing Korean Dessert Cafe      PHL    \n",
       "8  Gokul Gujarati Restaurant       QAT    \n",
       "9  Al'frank Cookies                SGP    \n",
       "10 Jason Bakery                    ZAF    \n",
       "11 Elite Indian Restaurant         LKA    \n",
       "12 Liva                            TUR    \n",
       "13 Sangeetha Vegetarian Restaurant ARE    \n",
       "14 Damascena Coffee House          GBR    \n",
       "15 Nosh Mahal                      USA    "
      ]
     },
     "metadata": {},
     "output_type": "display_data"
    },
    {
     "data": {
      "text/html": [
       "<table>\n",
       "<thead><tr><th scope=col>Restaurant Name</th><th scope=col>Country</th></tr></thead>\n",
       "<tbody>\n",
       "\t<tr><td>Barbeque Nation               </td><td>IND                           </td></tr>\n",
       "\t<tr><td>Poets Cafe                    </td><td>AUS                           </td></tr>\n",
       "\t<tr><td>Veloso                        </td><td>BRA                           </td></tr>\n",
       "\t<tr><td>NA                            </td><td>CAN                           </td></tr>\n",
       "\t<tr><td>Satoo - Hotel Shangri-La      </td><td>IDN                           </td></tr>\n",
       "\t<tr><td>Little Sister Cafe            </td><td>NZL                           </td></tr>\n",
       "\t<tr><td>Balay Dako                    </td><td>PHL                           </td></tr>\n",
       "\t<tr><td>Indian Coffee House           </td><td>QAT                           </td></tr>\n",
       "\t<tr><td>Makansutra Gluttons Bay       </td><td>SGP                           </td></tr>\n",
       "\t<tr><td>The Whippet                   </td><td>ZAF                           </td></tr>\n",
       "\t<tr><td>The Commons                   </td><td>LKA                           </td></tr>\n",
       "\t<tr><td>íukuraÛôa SofrasÛ±      </td><td>TUR                           </td></tr>\n",
       "\t<tr><td>Barbeque Nation               </td><td>ARE                           </td></tr>\n",
       "\t<tr><td>Bone Daddies                  </td><td>GBR                           </td></tr>\n",
       "\t<tr><td>Ella's Americana Folk Art Cafe</td><td>USA                           </td></tr>\n",
       "</tbody>\n",
       "</table>\n"
      ],
      "text/latex": [
       "\\begin{tabular}{r|ll}\n",
       " Restaurant Name & Country\\\\\n",
       "\\hline\n",
       "\t Barbeque Nation                & IND                           \\\\\n",
       "\t Poets Cafe                     & AUS                           \\\\\n",
       "\t Veloso                         & BRA                           \\\\\n",
       "\t NA                             & CAN                           \\\\\n",
       "\t Satoo - Hotel Shangri-La       & IDN                           \\\\\n",
       "\t Little Sister Cafe             & NZL                           \\\\\n",
       "\t Balay Dako                     & PHL                           \\\\\n",
       "\t Indian Coffee House            & QAT                           \\\\\n",
       "\t Makansutra Gluttons Bay        & SGP                           \\\\\n",
       "\t The Whippet                    & ZAF                           \\\\\n",
       "\t The Commons                    & LKA                           \\\\\n",
       "\t íukuraÛôa SofrasÛ±       & TUR                           \\\\\n",
       "\t Barbeque Nation                & ARE                           \\\\\n",
       "\t Bone Daddies                   & GBR                           \\\\\n",
       "\t Ella's Americana Folk Art Cafe & USA                           \\\\\n",
       "\\end{tabular}\n"
      ],
      "text/markdown": [
       "\n",
       "Restaurant Name | Country | \n",
       "|---|---|---|---|---|---|---|---|---|---|---|---|---|---|---|\n",
       "| Barbeque Nation                | IND                            | \n",
       "| Poets Cafe                     | AUS                            | \n",
       "| Veloso                         | BRA                            | \n",
       "| NA                             | CAN                            | \n",
       "| Satoo - Hotel Shangri-La       | IDN                            | \n",
       "| Little Sister Cafe             | NZL                            | \n",
       "| Balay Dako                     | PHL                            | \n",
       "| Indian Coffee House            | QAT                            | \n",
       "| Makansutra Gluttons Bay        | SGP                            | \n",
       "| The Whippet                    | ZAF                            | \n",
       "| The Commons                    | LKA                            | \n",
       "| íukuraÛôa SofrasÛ±       | TUR                            | \n",
       "| Barbeque Nation                | ARE                            | \n",
       "| Bone Daddies                   | GBR                            | \n",
       "| Ella's Americana Folk Art Cafe | USA                            | \n",
       "\n",
       "\n"
      ],
      "text/plain": [
       "   Restaurant Name                Country\n",
       "1  Barbeque Nation                IND    \n",
       "2  Poets Cafe                     AUS    \n",
       "3  Veloso                         BRA    \n",
       "4  NA                             CAN    \n",
       "5  Satoo - Hotel Shangri-La       IDN    \n",
       "6  Little Sister Cafe             NZL    \n",
       "7  Balay Dako                     PHL    \n",
       "8  Indian Coffee House            QAT    \n",
       "9  Makansutra Gluttons Bay        SGP    \n",
       "10 The Whippet                    ZAF    \n",
       "11 The Commons                    LKA    \n",
       "12 í\\u0088ukuraÛôa SofrasÛ±       TUR    \n",
       "13 Barbeque Nation                ARE    \n",
       "14 Bone Daddies                   GBR    \n",
       "15 Ella's Americana Folk Art Cafe USA    "
      ]
     },
     "metadata": {},
     "output_type": "display_data"
    },
    {
     "data": {
      "text/html": [
       "<table>\n",
       "<thead><tr><th scope=col>Restaurant Name</th><th scope=col>Country</th></tr></thead>\n",
       "<tbody>\n",
       "\t<tr><td>Barbeque Nation            </td><td>IND                        </td></tr>\n",
       "\t<tr><td>Pier 70                    </td><td>AUS                        </td></tr>\n",
       "\t<tr><td>Braseiro da Gíçvea         </td><td>BRA                        </td></tr>\n",
       "\t<tr><td>Lake House Restaurant      </td><td>CAN                        </td></tr>\n",
       "\t<tr><td>NA                         </td><td>IDN                        </td></tr>\n",
       "\t<tr><td>Depot Eatery and Oyster Bar</td><td>NZL                        </td></tr>\n",
       "\t<tr><td>Ooma                       </td><td>PHL                        </td></tr>\n",
       "\t<tr><td>Mainland China Restaurant  </td><td>QAT                        </td></tr>\n",
       "\t<tr><td>Fratini La Trattoria       </td><td>SGP                        </td></tr>\n",
       "\t<tr><td>Cube - Tasting Kitchen     </td><td>ZAF                        </td></tr>\n",
       "\t<tr><td>Ministry of Crab           </td><td>LKA                        </td></tr>\n",
       "\t<tr><td>Draft Gastro Pub           </td><td>TUR                        </td></tr>\n",
       "\t<tr><td>Carnival By Tresind        </td><td>ARE                        </td></tr>\n",
       "\t<tr><td>Hakkasan                   </td><td>GBR                        </td></tr>\n",
       "\t<tr><td>Mama's Fish House          </td><td>USA                        </td></tr>\n",
       "</tbody>\n",
       "</table>\n"
      ],
      "text/latex": [
       "\\begin{tabular}{r|ll}\n",
       " Restaurant Name & Country\\\\\n",
       "\\hline\n",
       "\t Barbeque Nation             & IND                        \\\\\n",
       "\t Pier 70                     & AUS                        \\\\\n",
       "\t Braseiro da Gíçvea          & BRA                        \\\\\n",
       "\t Lake House Restaurant       & CAN                        \\\\\n",
       "\t NA                          & IDN                        \\\\\n",
       "\t Depot Eatery and Oyster Bar & NZL                        \\\\\n",
       "\t Ooma                        & PHL                        \\\\\n",
       "\t Mainland China Restaurant   & QAT                        \\\\\n",
       "\t Fratini La Trattoria        & SGP                        \\\\\n",
       "\t Cube - Tasting Kitchen      & ZAF                        \\\\\n",
       "\t Ministry of Crab            & LKA                        \\\\\n",
       "\t Draft Gastro Pub            & TUR                        \\\\\n",
       "\t Carnival By Tresind         & ARE                        \\\\\n",
       "\t Hakkasan                    & GBR                        \\\\\n",
       "\t Mama's Fish House           & USA                        \\\\\n",
       "\\end{tabular}\n"
      ],
      "text/markdown": [
       "\n",
       "Restaurant Name | Country | \n",
       "|---|---|---|---|---|---|---|---|---|---|---|---|---|---|---|\n",
       "| Barbeque Nation             | IND                         | \n",
       "| Pier 70                     | AUS                         | \n",
       "| Braseiro da Gíçvea          | BRA                         | \n",
       "| Lake House Restaurant       | CAN                         | \n",
       "| NA                          | IDN                         | \n",
       "| Depot Eatery and Oyster Bar | NZL                         | \n",
       "| Ooma                        | PHL                         | \n",
       "| Mainland China Restaurant   | QAT                         | \n",
       "| Fratini La Trattoria        | SGP                         | \n",
       "| Cube - Tasting Kitchen      | ZAF                         | \n",
       "| Ministry of Crab            | LKA                         | \n",
       "| Draft Gastro Pub            | TUR                         | \n",
       "| Carnival By Tresind         | ARE                         | \n",
       "| Hakkasan                    | GBR                         | \n",
       "| Mama's Fish House           | USA                         | \n",
       "\n",
       "\n"
      ],
      "text/plain": [
       "   Restaurant Name             Country\n",
       "1  Barbeque Nation             IND    \n",
       "2  Pier 70                     AUS    \n",
       "3  Braseiro da Gíçvea          BRA    \n",
       "4  Lake House Restaurant       CAN    \n",
       "5  NA                          IDN    \n",
       "6  Depot Eatery and Oyster Bar NZL    \n",
       "7  Ooma                        PHL    \n",
       "8  Mainland China Restaurant   QAT    \n",
       "9  Fratini La Trattoria        SGP    \n",
       "10 Cube - Tasting Kitchen      ZAF    \n",
       "11 Ministry of Crab            LKA    \n",
       "12 Draft Gastro Pub            TUR    \n",
       "13 Carnival By Tresind         ARE    \n",
       "14 Hakkasan                    GBR    \n",
       "15 Mama's Fish House           USA    "
      ]
     },
     "metadata": {},
     "output_type": "display_data"
    }
   ],
   "source": [
    "rankall(1,3)\n",
    "rankall(2,\"worst\")\n",
    "rankall(3,5)\n",
    "rankall(4,\"best\")"
   ]
  },
  {
   "cell_type": "markdown",
   "metadata": {},
   "source": [
    "## End of file"
   ]
  },
  {
   "cell_type": "code",
   "execution_count": null,
   "metadata": {},
   "outputs": [],
   "source": []
  }
 ],
 "metadata": {
  "kernelspec": {
   "display_name": "R",
   "language": "R",
   "name": "ir"
  },
  "language_info": {
   "codemirror_mode": "r",
   "file_extension": ".r",
   "mimetype": "text/x-r-source",
   "name": "R",
   "pygments_lexer": "r",
   "version": "3.6.1"
  }
 },
 "nbformat": 4,
 "nbformat_minor": 2
}
